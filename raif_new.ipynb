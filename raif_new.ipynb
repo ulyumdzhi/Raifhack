{
 "cells": [
  {
   "cell_type": "code",
   "execution_count": 1,
   "source": [
    "import pandas as pd\n",
    "import typing\n",
    "import pickle\n",
    "import pandas as pd\n",
    "import numpy as np\n",
    "import logging\n",
    "from sklearn.metrics import mean_squared_error\n",
    "from lightgbm import LGBMRegressor\n",
    "\n",
    "from sklearn.compose import ColumnTransformer\n",
    "from sklearn.pipeline import Pipeline\n",
    "from sklearn.preprocessing import OneHotEncoder, StandardScaler, OrdinalEncoder, LabelEncoder\n",
    "from sklearn.exceptions import NotFittedError\n",
    "\n",
    "import typing\n",
    "import numpy as np\n",
    "from sklearn.metrics import r2_score, mean_squared_error\n",
    "import datetime\n",
    "from scipy.spatial import KDTree\n",
    "\n",
    "from baseline.raif_hack.metrics import metrics_stat, deviation_metric_one_sample\n",
    "from service_func.floor import clean_floor\n",
    "from service_func.utils import region_replacer, get_exchange_rate, get_investments_data_for_region\n",
    "from service_func.federal_district import FEDERAL_DISTRICT\n",
    "\n",
    "pd.set_option('display.max_columns', None)\n"
   ],
   "outputs": [],
   "metadata": {}
  },
  {
   "cell_type": "code",
   "execution_count": 2,
   "source": [
    "ls"
   ],
   "outputs": [
    {
     "output_type": "stream",
     "name": "stdout",
     "text": [
      "README.md       \u001b[34mdata\u001b[m\u001b[m/           \u001b[34mservice_data\u001b[m\u001b[m/\n",
      "\u001b[34mbaseline\u001b[m\u001b[m/       raif_new.ipynb  \u001b[34mservice_func\u001b[m\u001b[m/\n"
     ]
    }
   ],
   "metadata": {}
  },
  {
   "cell_type": "code",
   "execution_count": 3,
   "source": [
    "train_df = pd.read_csv(\"data/train.csv\")\n",
    "test_df = pd.read_csv(\"data/test.csv\")\n",
    "prices_df = pd.read_csv(\"data/prices.csv\")"
   ],
   "outputs": [
    {
     "output_type": "stream",
     "name": "stderr",
     "text": [
      "/Users/ulyumdzhi/miniforge3/lib/python3.9/site-packages/IPython/core/interactiveshell.py:3441: DtypeWarning: Columns (1) have mixed types.Specify dtype option on import or set low_memory=False.\n",
      "  exec(code_obj, self.user_global_ns, self.user_ns)\n"
     ]
    }
   ],
   "metadata": {}
  },
  {
   "cell_type": "code",
   "execution_count": 4,
   "source": [
    "train_df_full = pd.concat([train_df, test_df])"
   ],
   "outputs": [],
   "metadata": {}
  },
  {
   "cell_type": "code",
   "execution_count": 5,
   "source": [
    "train_df_full = pd.merge(train_df_full, prices_df, on = 'id')"
   ],
   "outputs": [],
   "metadata": {}
  },
  {
   "cell_type": "code",
   "execution_count": null,
   "source": [],
   "outputs": [],
   "metadata": {}
  },
  {
   "cell_type": "code",
   "execution_count": 6,
   "source": [
    "# Чистим \"Этажность\"\n",
    "train_df_full['floor'] = train_df_full['floor'].fillna(0).astype('str')\n",
    "\n",
    "text = train_df_full['floor']\n",
    "text = text.apply(clean_floor)\n",
    "train_df_full['floor'] = text\n",
    "train_df_full['floor'] = train_df_full['floor'].astype('float').astype('int')\n",
    "train_df_full['floor'] = [1 if row > 78 else row for row in train_df_full['floor']]"
   ],
   "outputs": [],
   "metadata": {}
  },
  {
   "cell_type": "code",
   "execution_count": 7,
   "source": [
    "# Данные из Федеральной службы государственной статистики за 2019 год\n",
    "# https://gks.ru/free_doc/new_site/population/bednost/tabl/1-2-6_2019.doc\n",
    "# Локальное расположение файла \n",
    "s_path = 'service_data/salary.csv'\n",
    "salary = pd.read_csv(s_path, sep=';')\n",
    "salary['region'] = salary['region'].transform(region_replacer)\n",
    "\n",
    "train_df_full = train_df_full.merge(salary, on='region', how='left')"
   ],
   "outputs": [],
   "metadata": {}
  },
  {
   "cell_type": "code",
   "execution_count": 8,
   "source": [
    "train_df_full['federal_district'] = [str([key for key, val in FEDERAL_DISTRICT.items() if row in val]) if row == row else None for row in train_df_full['region']]\n",
    "train_df_full['federal_district'] = [i[1] for i in train_df_full['federal_district']]\n",
    "train_df_full['federal_district'] = train_df_full['federal_district'].astype(int)"
   ],
   "outputs": [],
   "metadata": {}
  },
  {
   "cell_type": "code",
   "execution_count": 9,
   "source": [
    "# Собираем данные о курсах валют на даты, представленные в датасете\n",
    "cur = ['EUR', 'USD']\n",
    "exchange = get_exchange_rate(train_df_full, cur)\n",
    "\n",
    "train_df_full = train_df_full.merge(exchange, on='date', how='left')\n"
   ],
   "outputs": [],
   "metadata": {}
  },
  {
   "cell_type": "code",
   "execution_count": 10,
   "source": [
    "# Формируем таблицу по инвестиционной привлекательности регионов и добавляем эти данные\n",
    "investments = get_investments_data_for_region(train_df_full)\n",
    "train_df_full = train_df_full.merge(investments, on='region', how='left')\n"
   ],
   "outputs": [],
   "metadata": {}
  },
  {
   "cell_type": "code",
   "execution_count": 11,
   "source": [
    "train_df_full.columns.to_list()"
   ],
   "outputs": [
    {
     "output_type": "execute_result",
     "data": {
      "text/plain": [
       "['city',\n",
       " 'floor',\n",
       " 'id',\n",
       " 'lat',\n",
       " 'lng',\n",
       " 'osm_amenity_points_in_0.001',\n",
       " 'osm_amenity_points_in_0.005',\n",
       " 'osm_amenity_points_in_0.0075',\n",
       " 'osm_amenity_points_in_0.01',\n",
       " 'osm_building_points_in_0.001',\n",
       " 'osm_building_points_in_0.005',\n",
       " 'osm_building_points_in_0.0075',\n",
       " 'osm_building_points_in_0.01',\n",
       " 'osm_catering_points_in_0.001',\n",
       " 'osm_catering_points_in_0.005',\n",
       " 'osm_catering_points_in_0.0075',\n",
       " 'osm_catering_points_in_0.01',\n",
       " 'osm_city_closest_dist',\n",
       " 'osm_city_nearest_name',\n",
       " 'osm_city_nearest_population',\n",
       " 'osm_crossing_closest_dist',\n",
       " 'osm_crossing_points_in_0.001',\n",
       " 'osm_crossing_points_in_0.005',\n",
       " 'osm_crossing_points_in_0.0075',\n",
       " 'osm_crossing_points_in_0.01',\n",
       " 'osm_culture_points_in_0.001',\n",
       " 'osm_culture_points_in_0.005',\n",
       " 'osm_culture_points_in_0.0075',\n",
       " 'osm_culture_points_in_0.01',\n",
       " 'osm_finance_points_in_0.001',\n",
       " 'osm_finance_points_in_0.005',\n",
       " 'osm_finance_points_in_0.0075',\n",
       " 'osm_finance_points_in_0.01',\n",
       " 'osm_healthcare_points_in_0.005',\n",
       " 'osm_healthcare_points_in_0.0075',\n",
       " 'osm_healthcare_points_in_0.01',\n",
       " 'osm_historic_points_in_0.005',\n",
       " 'osm_historic_points_in_0.0075',\n",
       " 'osm_historic_points_in_0.01',\n",
       " 'osm_hotels_points_in_0.005',\n",
       " 'osm_hotels_points_in_0.0075',\n",
       " 'osm_hotels_points_in_0.01',\n",
       " 'osm_leisure_points_in_0.005',\n",
       " 'osm_leisure_points_in_0.0075',\n",
       " 'osm_leisure_points_in_0.01',\n",
       " 'osm_offices_points_in_0.001',\n",
       " 'osm_offices_points_in_0.005',\n",
       " 'osm_offices_points_in_0.0075',\n",
       " 'osm_offices_points_in_0.01',\n",
       " 'osm_shops_points_in_0.001',\n",
       " 'osm_shops_points_in_0.005',\n",
       " 'osm_shops_points_in_0.0075',\n",
       " 'osm_shops_points_in_0.01',\n",
       " 'osm_subway_closest_dist',\n",
       " 'osm_train_stop_closest_dist',\n",
       " 'osm_train_stop_points_in_0.005',\n",
       " 'osm_train_stop_points_in_0.0075',\n",
       " 'osm_train_stop_points_in_0.01',\n",
       " 'osm_transport_stop_closest_dist',\n",
       " 'osm_transport_stop_points_in_0.005',\n",
       " 'osm_transport_stop_points_in_0.0075',\n",
       " 'osm_transport_stop_points_in_0.01',\n",
       " 'per_square_meter_price',\n",
       " 'reform_count_of_houses_1000',\n",
       " 'reform_count_of_houses_500',\n",
       " 'reform_house_population_1000',\n",
       " 'reform_house_population_500',\n",
       " 'reform_mean_floor_count_1000',\n",
       " 'reform_mean_floor_count_500',\n",
       " 'reform_mean_year_building_1000',\n",
       " 'reform_mean_year_building_500',\n",
       " 'region',\n",
       " 'total_square',\n",
       " 'street',\n",
       " 'date',\n",
       " 'realty_type',\n",
       " 'price_type',\n",
       " 'price_mean_r_100',\n",
       " 'price_std_r_100',\n",
       " 'price_median_r_100',\n",
       " 'price_amin_r_100',\n",
       " 'price_amax_r_100',\n",
       " 'price_mean_r_250',\n",
       " 'price_std_r_250',\n",
       " 'price_median_r_250',\n",
       " 'price_amin_r_250',\n",
       " 'price_amax_r_250',\n",
       " 'price_mean_r_500',\n",
       " 'price_std_r_500',\n",
       " 'price_median_r_500',\n",
       " 'price_amin_r_500',\n",
       " 'price_amax_r_500',\n",
       " 'price_mean_r_1000',\n",
       " 'price_std_r_1000',\n",
       " 'price_median_r_1000',\n",
       " 'price_amin_r_1000',\n",
       " 'price_amax_r_1000',\n",
       " 'price_mean_r_5000',\n",
       " 'price_std_r_5000',\n",
       " 'price_median_r_5000',\n",
       " 'price_amin_r_5000',\n",
       " 'price_amax_r_5000',\n",
       " 'median_salary',\n",
       " 'surv_minimum',\n",
       " 'federal_district',\n",
       " 'EUR',\n",
       " 'USD',\n",
       " 'risk_rank_2019',\n",
       " 'potential_percent_2019',\n",
       " 'potential_rank_2019',\n",
       " 'weighted_risk_2019']"
      ]
     },
     "metadata": {},
     "execution_count": 11
    }
   ],
   "metadata": {}
  },
  {
   "cell_type": "code",
   "execution_count": null,
   "source": [],
   "outputs": [],
   "metadata": {}
  },
  {
   "cell_type": "code",
   "execution_count": 12,
   "source": [
    "TARGET = 'per_square_meter_price'\n",
    "# признаки (или набор признаков), для которых применяем smoothed target encoding\n",
    "CATEGORICAL_STE_FEATURES = ['region', 'street', 'city', 'realty_type']\n",
    "# признаки, для которых применяем one hot encoding\n",
    "CATEGORICAL_OHE_FEATURES = []\n",
    "# численные признаки\n",
    "NUM_FEATURES = ['lat', 'lng', 'osm_amenity_points_in_0.001',\n",
    "       'osm_amenity_points_in_0.005', 'osm_amenity_points_in_0.0075',\n",
    "       'osm_amenity_points_in_0.01', 'osm_building_points_in_0.001',\n",
    "       'osm_building_points_in_0.005', 'osm_building_points_in_0.0075',\n",
    "       'osm_building_points_in_0.01', 'osm_catering_points_in_0.001',\n",
    "       'osm_catering_points_in_0.005', 'osm_catering_points_in_0.0075',\n",
    "       'osm_catering_points_in_0.01', 'osm_city_closest_dist',\n",
    "       'osm_city_nearest_population',\n",
    "       'osm_crossing_closest_dist', 'osm_crossing_points_in_0.001',\n",
    "       'osm_crossing_points_in_0.005', 'osm_crossing_points_in_0.0075',\n",
    "       'osm_crossing_points_in_0.01', 'osm_culture_points_in_0.001',\n",
    "       'osm_culture_points_in_0.005', 'osm_culture_points_in_0.0075',\n",
    "       'osm_culture_points_in_0.01', 'osm_finance_points_in_0.001',\n",
    "       'osm_finance_points_in_0.005', 'osm_finance_points_in_0.0075',\n",
    "       'osm_finance_points_in_0.01', 'osm_healthcare_points_in_0.005',\n",
    "       'osm_healthcare_points_in_0.0075', 'osm_healthcare_points_in_0.01',\n",
    "       'osm_historic_points_in_0.005', 'osm_historic_points_in_0.0075',\n",
    "       'osm_historic_points_in_0.01', 'osm_hotels_points_in_0.005',\n",
    "       'osm_hotels_points_in_0.0075', 'osm_hotels_points_in_0.01',\n",
    "       'osm_leisure_points_in_0.005', 'osm_leisure_points_in_0.0075',\n",
    "       'osm_leisure_points_in_0.01', 'osm_offices_points_in_0.001',\n",
    "       'osm_offices_points_in_0.005', 'osm_offices_points_in_0.0075',\n",
    "       'osm_offices_points_in_0.01', 'osm_shops_points_in_0.001',\n",
    "       'osm_shops_points_in_0.005', 'osm_shops_points_in_0.0075',\n",
    "       'osm_shops_points_in_0.01', 'osm_subway_closest_dist',\n",
    "       'osm_train_stop_closest_dist', 'osm_train_stop_points_in_0.005',\n",
    "       'osm_train_stop_points_in_0.0075', 'osm_train_stop_points_in_0.01',\n",
    "       'osm_transport_stop_closest_dist', 'osm_transport_stop_points_in_0.005',\n",
    "       'osm_transport_stop_points_in_0.0075',\n",
    "       'osm_transport_stop_points_in_0.01',\n",
    "       'reform_count_of_houses_1000', 'reform_count_of_houses_500',\n",
    "       'reform_house_population_1000', 'reform_house_population_500',\n",
    "       'reform_mean_floor_count_1000', 'reform_mean_floor_count_500',\n",
    "       'reform_mean_year_building_1000', 'reform_mean_year_building_500','total_square']\n",
    "\n",
    "NEW_NUM_FEATURES = [\n",
    "       'median_salary', 'surv_minimum',\n",
    "       'EUR', 'USD', 'potential_percent_2019', 'weighted_risk_2019']\n",
    "\n",
    "NEW_CAT_FEATURES = ['federal_district', 'risk_rank_2019', 'potential_rank_2019']\n",
    "\n",
    "MODEL_PARAMS = dict(\n",
    "            n_estimators=5000,\n",
    "            learning_rate=0.01,\n",
    "            reg_alpha=1,\n",
    "            num_leaves=40,\n",
    "            min_child_samples=5,\n",
    "            importance_type=\"gain\",\n",
    "            n_jobs=-1,\n",
    "            random_state=563,\n",
    "        )"
   ],
   "outputs": [],
   "metadata": {}
  },
  {
   "cell_type": "code",
   "execution_count": 13,
   "source": [
    "def aggregate(df, column):\n",
    "    temp_df = pd.DataFrame(df.groupby([column]).agg({'per_square_meter_price':[np.mean, np.median]})).reset_index() \n",
    "    temp_df.columns = [column, f'per_square_meter_price_{column}_mean', f'per_square_meter_price_{column}_median']\n",
    "    return pd.merge(df, temp_df, on=column, how='left')"
   ],
   "outputs": [],
   "metadata": {}
  },
  {
   "cell_type": "code",
   "execution_count": 14,
   "source": [
    "train_df_full = aggregate(train_df_full, 'city')\n",
    "train_df_full = aggregate(train_df_full, 'region')\n",
    "train_df_full = aggregate(train_df_full, 'street')\n",
    "train_df_full = aggregate(train_df_full, 'realty_type')"
   ],
   "outputs": [],
   "metadata": {}
  },
  {
   "cell_type": "code",
   "execution_count": 15,
   "source": [
    "#train_df = train_df[train_df['city'] == 'Москва']"
   ],
   "outputs": [],
   "metadata": {}
  },
  {
   "cell_type": "code",
   "execution_count": 16,
   "source": [
    "le_region = LabelEncoder()\n",
    "le_city = LabelEncoder()\n",
    "le_street = LabelEncoder()\n",
    "le_region = LabelEncoder()"
   ],
   "outputs": [],
   "metadata": {}
  },
  {
   "cell_type": "code",
   "execution_count": 17,
   "source": [
    "train_df_full['region'] = le_region.fit_transform(train_df_full['region'])\n",
    "train_df_full['city'] = le_city.fit_transform(train_df_full['city'])\n",
    "train_df_full['street'] = train_df_full['street'].fillna('')\n",
    "train_df_full['street'] =le_street.fit_transform(train_df_full['street'])"
   ],
   "outputs": [],
   "metadata": {}
  },
  {
   "cell_type": "code",
   "execution_count": 18,
   "source": [
    "train_df_full['month'] = train_df_full['date'].apply(lambda x:datetime.datetime.strptime(x, \"%Y-%m-%d\").month)"
   ],
   "outputs": [],
   "metadata": {}
  },
  {
   "cell_type": "code",
   "execution_count": 19,
   "source": [
    "FE = list(train_df_full.columns[-9:]) "
   ],
   "outputs": [],
   "metadata": {}
  },
  {
   "cell_type": "code",
   "execution_count": 20,
   "source": [
    "ss = StandardScaler()"
   ],
   "outputs": [],
   "metadata": {}
  },
  {
   "cell_type": "code",
   "execution_count": 21,
   "source": [
    "train_df_full[NUM_FEATURES+NEW_NUM_FEATURES] = ss.fit_transform(train_df_full[NUM_FEATURES+NEW_NUM_FEATURES])"
   ],
   "outputs": [],
   "metadata": {}
  },
  {
   "cell_type": "code",
   "execution_count": 22,
   "source": [
    "train_df_proc = train_df_full[train_df_full['id'].isin(train_df['id'])]\n",
    "test_df_proc  = train_df_full[train_df_full['id'].isin(test_df['id'])]"
   ],
   "outputs": [],
   "metadata": {}
  },
  {
   "cell_type": "code",
   "execution_count": 23,
   "source": [
    "RADUIS_FEATURES = list(prices_df.columns[1:])"
   ],
   "outputs": [],
   "metadata": {}
  },
  {
   "cell_type": "code",
   "execution_count": 24,
   "source": [
    "train_split = train_df_proc[train_df_proc['date'] < '2020-07-01']\n",
    "val_split = train_df_proc[train_df_proc['date'] >= '2020-07-01']"
   ],
   "outputs": [],
   "metadata": {}
  },
  {
   "cell_type": "code",
   "execution_count": 25,
   "source": [
    "train_split_offer = train_split[train_split['price_type'] == 0]\n",
    "train_split_manual = train_split[train_split['price_type'] == 1]\n",
    "val_split_offer = val_split[val_split['price_type'] == 0]\n",
    "val_split_manual = val_split[val_split['price_type'] == 1]"
   ],
   "outputs": [],
   "metadata": {}
  },
  {
   "cell_type": "code",
   "execution_count": 26,
   "source": [
    "X_train_offer, y_train_offer =  train_split_offer[NUM_FEATURES+CATEGORICAL_OHE_FEATURES+CATEGORICAL_STE_FEATURES+FE+RADUIS_FEATURES+NEW_NUM_FEATURES+NEW_CAT_FEATURES], train_split_offer[TARGET]\n",
    "X_val_offer, y_val_offer = val_split_offer[NUM_FEATURES+CATEGORICAL_OHE_FEATURES+CATEGORICAL_STE_FEATURES+FE+RADUIS_FEATURES+NEW_NUM_FEATURES+NEW_CAT_FEATURES], val_split_offer[TARGET]"
   ],
   "outputs": [],
   "metadata": {}
  },
  {
   "cell_type": "code",
   "execution_count": 27,
   "source": [
    "X_train_manual, y_train_manual =  train_split_manual[NUM_FEATURES+CATEGORICAL_OHE_FEATURES+CATEGORICAL_STE_FEATURES+FE+RADUIS_FEATURES+NEW_NUM_FEATURES+NEW_CAT_FEATURES], train_split_manual[TARGET]\n",
    "X_val_manual, y_val_manual = val_split_manual[NUM_FEATURES+CATEGORICAL_OHE_FEATURES+CATEGORICAL_STE_FEATURES+FE+RADUIS_FEATURES+NEW_NUM_FEATURES+NEW_CAT_FEATURES], val_split_manual[TARGET]"
   ],
   "outputs": [],
   "metadata": {}
  },
  {
   "cell_type": "code",
   "execution_count": 28,
   "source": [
    "model = LGBMRegressor(**MODEL_PARAMS)"
   ],
   "outputs": [],
   "metadata": {}
  },
  {
   "cell_type": "code",
   "execution_count": 29,
   "source": [
    "model.fit(X_train_offer, y_train_offer)"
   ],
   "outputs": [
    {
     "output_type": "execute_result",
     "data": {
      "text/plain": [
       "LGBMRegressor(importance_type='gain', learning_rate=0.01, min_child_samples=5,\n",
       "              n_estimators=5000, num_leaves=40, random_state=563, reg_alpha=1)"
      ]
     },
     "metadata": {},
     "execution_count": 29
    }
   ],
   "metadata": {}
  },
  {
   "cell_type": "code",
   "execution_count": 30,
   "source": [
    "metrics_stat(model.predict(X_val_offer), y_val_offer.values)"
   ],
   "outputs": [
    {
     "output_type": "execute_result",
     "data": {
      "text/plain": [
       "{'mape': 1.1812248662681124,\n",
       " 'mdape': 0.20066081644416806,\n",
       " 'rmse': 73040.07651460693,\n",
       " 'r2': 0.7726855965826511,\n",
       " 'raif_metric': 2.4271719891839805}"
      ]
     },
     "metadata": {},
     "execution_count": 30
    }
   ],
   "metadata": {}
  },
  {
   "cell_type": "code",
   "execution_count": 31,
   "source": [
    "metrics_stat(model.predict(X_train_manual), y_train_manual.values)"
   ],
   "outputs": [
    {
     "output_type": "execute_result",
     "data": {
      "text/plain": [
       "{'mape': 0.34838046568635095,\n",
       " 'mdape': 0.2590991414274834,\n",
       " 'rmse': 73353.86219848657,\n",
       " 'r2': -0.41611319624099385,\n",
       " 'raif_metric': 2.2910854048137974}"
      ]
     },
     "metadata": {},
     "execution_count": 31
    }
   ],
   "metadata": {}
  },
  {
   "cell_type": "code",
   "execution_count": 34,
   "source": [
    "predictions = model.predict(X_train_manual)\n",
    "deviation = np.median((y_train_manual.values - predictions)/predictions)\n",
    "deviation"
   ],
   "outputs": [
    {
     "output_type": "execute_result",
     "data": {
      "text/plain": [
       "-0.10207064268943308"
      ]
     },
     "metadata": {},
     "execution_count": 34
    }
   ],
   "metadata": {}
  },
  {
   "cell_type": "code",
   "execution_count": 35,
   "source": [
    "preds_manual = model.predict(X_val_manual) * (1 + deviation)\n",
    "metrics_stat(preds_manual, y_val_manual.values)"
   ],
   "outputs": [
    {
     "output_type": "execute_result",
     "data": {
      "text/plain": [
       "{'mape': 0.3785271767980311,\n",
       " 'mdape': 0.24981135467664162,\n",
       " 'rmse': 82388.32520812146,\n",
       " 'r2': -1.4578254104837813,\n",
       " 'raif_metric': 2.247058793395945}"
      ]
     },
     "metadata": {},
     "execution_count": 35
    }
   ],
   "metadata": {}
  },
  {
   "cell_type": "code",
   "execution_count": null,
   "source": [],
   "outputs": [],
   "metadata": {}
  }
 ],
 "metadata": {
  "kernelspec": {
   "name": "python3",
   "display_name": "Python 3.9.5 64-bit ('base': conda)"
  },
  "language_info": {
   "codemirror_mode": {
    "name": "ipython",
    "version": 3
   },
   "file_extension": ".py",
   "mimetype": "text/x-python",
   "name": "python",
   "nbconvert_exporter": "python",
   "pygments_lexer": "ipython3",
   "version": "3.9.5"
  },
  "toc": {
   "base_numbering": 1,
   "nav_menu": {},
   "number_sections": true,
   "sideBar": true,
   "skip_h1_title": false,
   "title_cell": "Table of Contents",
   "title_sidebar": "Contents",
   "toc_cell": false,
   "toc_position": {},
   "toc_section_display": true,
   "toc_window_display": false
  },
  "interpreter": {
   "hash": "72bbd6dbe99ced1d936df68999cfca0d6b8af570f8fd1676d36399d68914579d"
  }
 },
 "nbformat": 4,
 "nbformat_minor": 4
}